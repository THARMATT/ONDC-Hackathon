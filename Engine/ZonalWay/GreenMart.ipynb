{
 "cells": [
  {
   "cell_type": "code",
   "execution_count": 14,
   "id": "08e962e5",
   "metadata": {},
   "outputs": [
    {
     "name": "stdout",
     "output_type": "stream",
     "text": [
      "Final Recommendations with Discounts:\n",
      "                 Product Name    Seller Name Discount\n",
      "0          Wild Salmon Fillet      GreenMart      10%\n",
      "1  Wild-Caught Sockeye Salmon    NatureFresh        0\n",
      "2              Organic Apples      GreenMart      10%\n",
      "3                Greek Yogurt      GreenMart      10%\n",
      "4            Herbal Tea Blend  OrganicMarket        0\n"
     ]
    }
   ],
   "source": [
    "import pandas as pd\n",
    "\n",
    "# Sample recommendations data with product names and associated seller names\n",
    "recommendations = pd.read_csv(\"recommendations_customer.csv\")\n",
    "\n",
    "# Function to apply 10% discount only on seller's products\n",
    "def add_discount(row):\n",
    "    seller = row['Seller Name']\n",
    "    product = row['Product Name']\n",
    "    discount = 0\n",
    "    if seller == 'GreenMart':  # Adjust this condition based on the seller's name\n",
    "        discount = \"10%\"  # 10% discount for GreenMart products\n",
    "    return discount\n",
    "\n",
    "# Apply discount for each product\n",
    "recommendations['Discount'] = recommendations.apply(add_discount, axis=1)\n",
    "\n",
    "recommendations.to_csv('recommendations_with_discounts.csv', index=False)\n",
    "%run NatureFresh.ipynb"
   ]
  },
  {
   "cell_type": "code",
   "execution_count": null,
   "id": "59b31614",
   "metadata": {},
   "outputs": [],
   "source": []
  }
 ],
 "metadata": {
  "kernelspec": {
   "display_name": "Python 3 (ipykernel)",
   "language": "python",
   "name": "python3"
  },
  "language_info": {
   "codemirror_mode": {
    "name": "ipython",
    "version": 3
   },
   "file_extension": ".py",
   "mimetype": "text/x-python",
   "name": "python",
   "nbconvert_exporter": "python",
   "pygments_lexer": "ipython3",
   "version": "3.10.9"
  }
 },
 "nbformat": 4,
 "nbformat_minor": 5
}
