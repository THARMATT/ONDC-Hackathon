{
 "cells": [
  {
   "cell_type": "code",
   "execution_count": 5,
   "id": "fedc670a",
   "metadata": {},
   "outputs": [],
   "source": [
    "import pandas as pd\n",
    "\n",
    "# Sample recommendations data with product names and associated seller names\n",
    "recommendations = pd.read_csv(\"updated_recommendations_with_discounts_3.csv\")\n",
    "\n",
    "\n",
    "def add_discount(seller_name, recommendations):\n",
    "    \n",
    "    if seller_name == 'FreshMart':\n",
    "        recommendations.loc[recommendations['Seller Name'] == seller_name, 'Discount'] = \"Fast Dilevery!\"\n",
    "    return recommendations\n",
    "\n",
    "# Apply additional discounts for another seller\n",
    "recommendations = add_discount('FreshMart', recommendations)\n",
    "\n",
    "\n",
    "# Save the updated recommendations with discounts to a CSV file\n",
    "recommendations.to_csv('final.csv', index=False)"
   ]
  },
  {
   "cell_type": "code",
   "execution_count": null,
   "id": "242741a7",
   "metadata": {},
   "outputs": [],
   "source": []
  }
 ],
 "metadata": {
  "kernelspec": {
   "display_name": "Python 3 (ipykernel)",
   "language": "python",
   "name": "python3"
  },
  "language_info": {
   "codemirror_mode": {
    "name": "ipython",
    "version": 3
   },
   "file_extension": ".py",
   "mimetype": "text/x-python",
   "name": "python",
   "nbconvert_exporter": "python",
   "pygments_lexer": "ipython3",
   "version": "3.10.9"
  }
 },
 "nbformat": 4,
 "nbformat_minor": 5
}
