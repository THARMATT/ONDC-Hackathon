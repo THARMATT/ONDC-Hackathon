{
 "cells": [
  {
   "cell_type": "code",
   "execution_count": 1,
   "id": "e31778bf",
   "metadata": {},
   "outputs": [
    {
     "ename": "SyntaxError",
     "evalue": "(unicode error) 'unicodeescape' codec can't decode bytes in position 2-3: truncated \\UXXXXXXXX escape (1246941372.py, line 5)",
     "output_type": "error",
     "traceback": [
      "\u001b[1;36m  Cell \u001b[1;32mIn[1], line 5\u001b[1;36m\u001b[0m\n\u001b[1;33m    with open(\"C:\\Users\\mahal\\Desktop\\BUILD_FOR_BHARAT\\BUILD_FOR_BHARAT_SCALED\\GadgetDeal\\encrypted_data.csv\", mode='r') as encrypted_file:\u001b[0m\n\u001b[1;37m                                                                                                             ^\u001b[0m\n\u001b[1;31mSyntaxError\u001b[0m\u001b[1;31m:\u001b[0m (unicode error) 'unicodeescape' codec can't decode bytes in position 2-3: truncated \\UXXXXXXXX escape\n"
     ]
    }
   ],
   "source": [
    "import csv\n",
    "from cryptography.fernet import Fernet\n",
    "\n",
    "# Read encrypted data from CSV file\n",
    "with open(\"C:\\\\Users\\\\mahal\\\\Desktop\\\\BUILD_FOR_BHARAT\\BUILD_FOR_BHARAT_SCALED\\GadgetDeal\\encrypted_data.csv\", mode='r') as encrypted_file:\n",
    "    reader = csv.reader(encrypted_file)\n",
    "    next(reader)  # Skip header row\n",
    "    cipher_text = next(reader)[0]\n",
    "\n",
    "# Read key from text file\n",
    "with open(\"C:\\Users\\mahal\\Desktop\\BUILD_FOR_BHARAT\\BUILD_FOR_BHARAT_SCALED\\GadgetDeal\\encryption_key.txt\", mode='r') as key_file:\n",
    "    key = key_file.read().encode()\n",
    "\n",
    "# Initialize cipher suite with key\n",
    "cipher_suite = Fernet(key)\n",
    "\n",
    "# Decrypt encrypted data\n",
    "decrypted_text = cipher_suite.decrypt(cipher_text.encode())\n",
    "\n",
    "# Convert decrypted data from bytes to list\n",
    "decrypted_data = eval(decrypted_text.decode())\n",
    "\n",
    "# Write decrypted data to a new CSV file\n",
    "with open('decrypted_data.csv', mode='w', newline='') as decrypted_file:\n",
    "    writer = csv.DictWriter(decrypted_file, fieldnames=decrypted_data[0].keys())\n",
    "    writer.writeheader()\n",
    "    writer.writerows(decrypted_data)\n",
    "\n",
    "print(\"Decrypted data has been written to decrypted_data.csv\")\n"
   ]
  },
  {
   "cell_type": "code",
   "execution_count": null,
   "id": "da12b691",
   "metadata": {},
   "outputs": [],
   "source": []
  }
 ],
 "metadata": {
  "kernelspec": {
   "display_name": "Python 3 (ipykernel)",
   "language": "python",
   "name": "python3"
  },
  "language_info": {
   "codemirror_mode": {
    "name": "ipython",
    "version": 3
   },
   "file_extension": ".py",
   "mimetype": "text/x-python",
   "name": "python",
   "nbconvert_exporter": "python",
   "pygments_lexer": "ipython3",
   "version": "3.10.9"
  }
 },
 "nbformat": 4,
 "nbformat_minor": 5
}
