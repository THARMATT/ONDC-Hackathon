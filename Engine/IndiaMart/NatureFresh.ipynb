{
 "cells": [
  {
   "cell_type": "code",
   "execution_count": 15,
   "id": "da5fd4a2",
   "metadata": {},
   "outputs": [
    {
     "name": "stdout",
     "output_type": "stream",
     "text": [
      "Final Recommendations with Updated Discounts:\n",
      "                 Product Name    Seller Name       Discount\n",
      "0          Wild Salmon Fillet      GreenMart            10%\n",
      "1  Wild-Caught Sockeye Salmon    NatureFresh  Free Dilevery\n",
      "2              Organic Apples      GreenMart            10%\n",
      "3                Greek Yogurt      GreenMart            10%\n",
      "4            Herbal Tea Blend  OrganicMarket              0\n"
     ]
    }
   ],
   "source": [
    "import pandas as pd\n",
    "\n",
    "# Sample recommendations data with product names and associated seller names\n",
    "recommendations = pd.read_csv(\"recommendations_with_discounts.csv\")\n",
    "\n",
    "# Function to apply 15% discount only on seller's products\n",
    "def add_discount(seller_name, recommendations):\n",
    "    # Adding 15% discount to products associated with the specified seller\n",
    "    if seller_name == 'NatureFresh':\n",
    "        recommendations.loc[recommendations['Seller Name'] == seller_name, 'Discount'] = \"Free Dilevery!\"\n",
    "    return recommendations\n",
    "\n",
    "# Apply additional discounts for another seller\n",
    "recommendations = add_discount('NatureFresh', recommendations)\n",
    "\n",
    "\n",
    "# Save the updated recommendations with discounts to a CSV file\n",
    "recommendations.to_csv('updated_recommendations_with_discounts.csv', index=False)\n",
    "%run FreshFoods.ipynb"
   ]
  },
  {
   "cell_type": "code",
   "execution_count": null,
   "id": "c54cf856",
   "metadata": {},
   "outputs": [],
   "source": []
  }
 ],
 "metadata": {
  "kernelspec": {
   "display_name": "Python 3 (ipykernel)",
   "language": "python",
   "name": "python3"
  },
  "language_info": {
   "codemirror_mode": {
    "name": "ipython",
    "version": 3
   },
   "file_extension": ".py",
   "mimetype": "text/x-python",
   "name": "python",
   "nbconvert_exporter": "python",
   "pygments_lexer": "ipython3",
   "version": "3.10.9"
  }
 },
 "nbformat": 4,
 "nbformat_minor": 5
}
